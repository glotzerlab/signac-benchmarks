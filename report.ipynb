{
 "cells": [
  {
   "cell_type": "code",
   "execution_count": null,
   "metadata": {},
   "outputs": [],
   "source": [
    "from pprint import pprint\n",
    "\n",
    "from signac import Collection\n",
    "import pandas as pd\n",
    "import numpy as np\n",
    "from matplotlib import pyplot as plt\n",
    "\n",
    "%matplotlib inline"
   ]
  },
  {
   "cell_type": "code",
   "execution_count": null,
   "metadata": {},
   "outputs": [],
   "source": [
    "with Collection.open('benchmark.txt') as c:\n",
    "    docs = list(c)"
   ]
  },
  {
   "cell_type": "code",
   "execution_count": null,
   "metadata": {},
   "outputs": [],
   "source": [
    "def strip_complexity(cat):\n",
    "    assert cat[1] == '_'\n",
    "    c = cat[0]\n",
    "    return c, cat[2:]\n",
    "\n",
    "def normalize(data, N):\n",
    "    for cat, x in data.items():\n",
    "        cplx, cat_ = strip_complexity(cat)\n",
    "        x_mean = min([(y/n) for n, y in x])\n",
    "        if cplx == 'N':\n",
    "            x_mean /= N\n",
    "        if cat_ == 'determine_len':\n",
    "            x_mean *= 100\n",
    "        yield cat, 1e3 * x_mean\n",
    "\n",
    "        \n",
    "df_meta = pd.DataFrame({doc['_id']: doc['meta'] for doc in docs}).T\n",
    "df_data = pd.DataFrame({doc['_id']: dict(normalize(doc['data'], doc['meta']['N'])) for doc in docs}).T\n",
    "df = pd.concat([df_meta, df_data], axis=1)"
   ]
  },
  {
   "cell_type": "code",
   "execution_count": null,
   "metadata": {},
   "outputs": [],
   "source": [
    "def tr(s):\n",
    "    return {\n",
    "        '1_select_by_id': \"Select by ID O(1)\",\n",
    "        'N_determine_len': \"Determine N (x100) O(N)\",\n",
    "        'N_iterate': \"Iterate (multiple passes) O(N)\",\n",
    "        'N_iterate_single_pass': \"Iterate (single pass) O(N)\",\n",
    "        'N_search_lean_filter': \"Search w/ lean filter O(N)\",\n",
    "        'N_search_rich_filter': \"Search w/ rich filter O(N)\",\n",
    "        'datreant.core': \"datreant\",\n",
    "        'tool,N': \"Tool, N\",\n",
    "    }.get(s, s)\n",
    "\n",
    "def tr_legend(legend):\n",
    "    title = legend.get_title()\n",
    "    title.set_text(tr(title.get_text()))\n",
    "    for text in legend.get_texts():\n",
    "        tool, N = text.get_text()[1:-1].split(',')\n",
    "        text.set_text(\"{}, {}\".format(tr(tool), N))\n",
    "\n",
    "fig, ax = plt.subplots(figsize=(4, 3), dpi=150)\n",
    "\n",
    "cmap_signac = plt.get_cmap('Blues')\n",
    "cmap_datreant = plt.get_cmap('Greens')\n",
    "\n",
    "\n",
    "def cmap(cmaps, a, x):\n",
    "    n = len(cmaps)\n",
    "    i = (n+1) * x\n",
    "    j = int(i / n)\n",
    "    y = (i / n - int(i/n)) * (1-a) + a\n",
    "    return cmaps[int(i/n)](y)\n",
    "    return cmap_signac(x)\n",
    "    \n",
    "from functools import partial\n",
    "colors = partial(cmap, [cmap_datreant, cmap_signac], 0.2)\n",
    "\n",
    "    \n",
    "df.rename(columns=tr).groupby(by=['tool', 'N']).mean().T.plot(kind='barh', ax=ax, colormap=colors)\n",
    "legend = ax.get_legend()\n",
    "tr_legend(legend)\n",
    "ax.set_xlim(0, 10.0)\n",
    "ax.set_xlabel('Time / Complexity [ms]')\n",
    "plt.show()"
   ]
  },
  {
   "cell_type": "code",
   "execution_count": null,
   "metadata": {},
   "outputs": [],
   "source": []
  }
 ],
 "metadata": {
  "kernelspec": {
   "display_name": "Python 3",
   "language": "python",
   "name": "python3"
  },
  "language_info": {
   "codemirror_mode": {
    "name": "ipython",
    "version": 3
   },
   "file_extension": ".py",
   "mimetype": "text/x-python",
   "name": "python",
   "nbconvert_exporter": "python",
   "pygments_lexer": "ipython3",
   "version": "3.5.4"
  }
 },
 "nbformat": 4,
 "nbformat_minor": 2
}
